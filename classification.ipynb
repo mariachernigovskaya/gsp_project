{
 "cells": [
  {
   "cell_type": "code",
   "execution_count": 1,
   "id": "bd51871c-0e00-48e1-9d3c-fdef6e2dc6ae",
   "metadata": {
    "jupyter": {
     "source_hidden": true
    },
    "tags": []
   },
   "outputs": [],
   "source": [
    "import pandas as pd"
   ]
  },
  {
   "cell_type": "code",
   "execution_count": 2,
   "id": "ac9e9e8f-24c4-4176-bfaf-71c09af4c2f2",
   "metadata": {},
   "outputs": [],
   "source": [
    "PROJECT_ID = \"algebraic-notch-313219\""
   ]
  },
  {
   "cell_type": "code",
   "execution_count": 3,
   "id": "0c78401e-b00c-4b7a-a875-16b96aca7fec",
   "metadata": {},
   "outputs": [],
   "source": [
    "BUCKET_NAME = \"gs://my-first-bucket\""
   ]
  },
  {
   "cell_type": "code",
   "execution_count": 4,
   "id": "01a06ee8-b77b-47ee-9627-e7be0eac13c5",
   "metadata": {},
   "outputs": [
    {
     "name": "stdout",
     "output_type": "stream",
     "text": [
      "Project ID: algebraic-notch-313219\n"
     ]
    }
   ],
   "source": [
    "if PROJECT_ID == \"\" or PROJECT_ID is None or PROJECT_ID == \"algebraic-notch-313219\":\n",
    "    # Get your GCP project id from gcloud\n",
    "    shell_output = ! gcloud config list --format 'value(core.project)' 2>/dev/null\n",
    "    PROJECT_ID = shell_output[0]\n",
    "    print(\"Project ID:\", PROJECT_ID)"
   ]
  },
  {
   "cell_type": "code",
   "execution_count": 5,
   "id": "f42c775f-73b9-4422-bf61-5f7473001483",
   "metadata": {},
   "outputs": [],
   "source": [
    "from datetime import datetime\n",
    "\n",
    "TIMESTAMP = datetime.now().strftime(\"%Y%m%d%H%M%S\")"
   ]
  },
  {
   "cell_type": "code",
   "execution_count": 6,
   "id": "aac78914-bbd4-45cf-80e6-c2367a194dd2",
   "metadata": {},
   "outputs": [],
   "source": [
    "if BUCKET_NAME == \"\" or BUCKET_NAME is None or BUCKET_NAME == \"gs://my-first-bucket\":\n",
    "    BUCKET_NAME = \"gs://\" + PROJECT_ID + \"aip-\" + TIMESTAMP"
   ]
  },
  {
   "cell_type": "code",
   "execution_count": 7,
   "id": "016a8e25-34b1-46e7-8d5e-099cabab05d7",
   "metadata": {},
   "outputs": [],
   "source": [
    "import google.cloud.aiplatform as aip"
   ]
  },
  {
   "cell_type": "code",
   "execution_count": 8,
   "id": "cc485fda-c142-4810-9581-e7c8dd81ece6",
   "metadata": {},
   "outputs": [],
   "source": [
    "aip.init(project=PROJECT_ID, staging_bucket=BUCKET_NAME)"
   ]
  },
  {
   "cell_type": "code",
   "execution_count": 9,
   "id": "d462ec33-f1fd-4968-bb90-eeb1e055657e",
   "metadata": {},
   "outputs": [],
   "source": [
    "IMPORT_FILE = \"gs://cloud-ai-platform-47ebb270-074a-4330-aaba-fff9e976aee4/adult_income\""
   ]
  },
  {
   "cell_type": "code",
   "execution_count": 17,
   "id": "34fd4a5a-a44a-4201-9293-7bc7556cd739",
   "metadata": {},
   "outputs": [
    {
     "name": "stdout",
     "output_type": "stream",
     "text": [
      "Number of Examples 32562\n",
      "First 10 rows\n",
      "age,workclass,functional_weight,education,education_num,marital_status,occupation,relationship,race,sex,capital_gain,capital_loss,hours_per_week,native_country,income_bracket\n",
      "39, Private,297847, 9th,5, Married-civ-spouse, Other-service, Wife, Black, Female,3411,0,34, United-States, <=50K\n",
      "72, Private,74141, 9th,5, Married-civ-spouse, Exec-managerial, Wife, Asian-Pac-Islander, Female,0,0,48, United-States, >50K\n",
      "45, Private,178215, 9th,5, Married-civ-spouse, Machine-op-inspct, Wife, White, Female,0,0,40, United-States, >50K\n",
      "31, Private,86958, 9th,5, Married-civ-spouse, Exec-managerial, Wife, White, Female,0,0,40, United-States, <=50K\n",
      "55, Private,176012, 9th,5, Married-civ-spouse, Tech-support, Wife, White, Female,0,0,23, United-States, <=50K\n",
      "30, Private,61272, 9th,5, Married-civ-spouse, Machine-op-inspct, Wife, White, Female,0,0,40, Portugal, <=50K\n",
      "46, Self-emp-inc,161386, 9th,5, Married-civ-spouse, Adm-clerical, Wife, White, Female,0,0,50, United-States, <=50K\n",
      "28, Private,209801, 9th,5, Married-civ-spouse, Machine-op-inspct, Wife, White, Female,0,0,40, United-States, <=50K\n",
      "37, Private,171090, 9th,5, Married-civ-spouse, Machine-op-inspct, Wife, Black, Female,0,0,48, United-States, <=50K\n",
      "Label Column Name income_bracket\n"
     ]
    }
   ],
   "source": [
    "count = ! gsutil cat $IMPORT_FILE | wc -l\n",
    "print(\"Number of Examples\", int(count[0]))\n",
    "\n",
    "print(\"First 10 rows\")\n",
    "! gsutil cat $IMPORT_FILE | head\n",
    "\n",
    "heading = ! gsutil cat $IMPORT_FILE | head -n1\n",
    "label_column = str(heading).split(\",\")[-1].split(\"'\")[0]\n",
    "print(\"Label Column Name\", label_column)\n",
    "if label_column is None:\n",
    "    raise Exception(\"label column missing\")"
   ]
  },
  {
   "cell_type": "code",
   "execution_count": 18,
   "id": "678fd52e-5d2d-4d3a-85b7-cece1a049b17",
   "metadata": {},
   "outputs": [
    {
     "name": "stdout",
     "output_type": "stream",
     "text": [
      "<google.cloud.aiplatform.training_jobs.AutoMLTabularTrainingJob object at 0x7f7531aaef10>\n"
     ]
    }
   ],
   "source": [
    "dag = aip.AutoMLTabularTrainingJob(\n",
    "    display_name=\"income_\" + TIMESTAMP,\n",
    "    optimization_prediction_type=\"classification\",\n",
    "    optimization_objective=\"minimize-log-loss\",\n",
    ")\n",
    "\n",
    "print(dag)"
   ]
  },
  {
   "cell_type": "code",
   "execution_count": 19,
   "id": "8896678f-898b-4fc7-a2b4-e78cdd5e192c",
   "metadata": {},
   "outputs": [
    {
     "name": "stdout",
     "output_type": "stream",
     "text": [
      "INFO:google.cloud.aiplatform.training_jobs:No column transformations provided, so now retrieving columns from dataset in order to set default column transformations.\n",
      "INFO:google.cloud.aiplatform.training_jobs:The column transformation of type 'auto' was set for the following columns: ['marital_status', 'capital_loss', 'sex', 'age', 'occupation', 'education_num', 'workclass', 'functional_weight', 'education', 'hours_per_week', 'native_country', 'relationship', 'race', 'capital_gain'].\n",
      "INFO:google.cloud.aiplatform.training_jobs:View Training:\n",
      "https://console.cloud.google.com/ai/platform/locations/us-central1/training/6177796845926875136?project=301473280362\n",
      "INFO:google.cloud.aiplatform.training_jobs:AutoMLTabularTrainingJob projects/301473280362/locations/us-central1/trainingPipelines/6177796845926875136 current state:\n",
      "PipelineState.PIPELINE_STATE_RUNNING\n",
      "INFO:google.cloud.aiplatform.training_jobs:AutoMLTabularTrainingJob projects/301473280362/locations/us-central1/trainingPipelines/6177796845926875136 current state:\n",
      "PipelineState.PIPELINE_STATE_RUNNING\n",
      "INFO:google.cloud.aiplatform.training_jobs:AutoMLTabularTrainingJob projects/301473280362/locations/us-central1/trainingPipelines/6177796845926875136 current state:\n",
      "PipelineState.PIPELINE_STATE_RUNNING\n",
      "INFO:google.cloud.aiplatform.training_jobs:AutoMLTabularTrainingJob projects/301473280362/locations/us-central1/trainingPipelines/6177796845926875136 current state:\n",
      "PipelineState.PIPELINE_STATE_RUNNING\n",
      "INFO:google.cloud.aiplatform.training_jobs:AutoMLTabularTrainingJob projects/301473280362/locations/us-central1/trainingPipelines/6177796845926875136 current state:\n",
      "PipelineState.PIPELINE_STATE_RUNNING\n",
      "INFO:google.cloud.aiplatform.training_jobs:AutoMLTabularTrainingJob projects/301473280362/locations/us-central1/trainingPipelines/6177796845926875136 current state:\n",
      "PipelineState.PIPELINE_STATE_RUNNING\n",
      "INFO:google.cloud.aiplatform.training_jobs:AutoMLTabularTrainingJob projects/301473280362/locations/us-central1/trainingPipelines/6177796845926875136 current state:\n",
      "PipelineState.PIPELINE_STATE_RUNNING\n",
      "INFO:google.cloud.aiplatform.training_jobs:AutoMLTabularTrainingJob projects/301473280362/locations/us-central1/trainingPipelines/6177796845926875136 current state:\n",
      "PipelineState.PIPELINE_STATE_RUNNING\n",
      "INFO:google.cloud.aiplatform.training_jobs:AutoMLTabularTrainingJob projects/301473280362/locations/us-central1/trainingPipelines/6177796845926875136 current state:\n",
      "PipelineState.PIPELINE_STATE_RUNNING\n",
      "INFO:google.cloud.aiplatform.training_jobs:AutoMLTabularTrainingJob projects/301473280362/locations/us-central1/trainingPipelines/6177796845926875136 current state:\n",
      "PipelineState.PIPELINE_STATE_RUNNING\n",
      "INFO:google.cloud.aiplatform.training_jobs:AutoMLTabularTrainingJob projects/301473280362/locations/us-central1/trainingPipelines/6177796845926875136 current state:\n",
      "PipelineState.PIPELINE_STATE_RUNNING\n",
      "INFO:google.cloud.aiplatform.training_jobs:AutoMLTabularTrainingJob projects/301473280362/locations/us-central1/trainingPipelines/6177796845926875136 current state:\n",
      "PipelineState.PIPELINE_STATE_RUNNING\n",
      "INFO:google.cloud.aiplatform.training_jobs:AutoMLTabularTrainingJob projects/301473280362/locations/us-central1/trainingPipelines/6177796845926875136 current state:\n",
      "PipelineState.PIPELINE_STATE_RUNNING\n",
      "INFO:google.cloud.aiplatform.training_jobs:AutoMLTabularTrainingJob projects/301473280362/locations/us-central1/trainingPipelines/6177796845926875136 current state:\n",
      "PipelineState.PIPELINE_STATE_RUNNING\n",
      "INFO:google.cloud.aiplatform.training_jobs:AutoMLTabularTrainingJob projects/301473280362/locations/us-central1/trainingPipelines/6177796845926875136 current state:\n",
      "PipelineState.PIPELINE_STATE_RUNNING\n",
      "INFO:google.cloud.aiplatform.training_jobs:AutoMLTabularTrainingJob projects/301473280362/locations/us-central1/trainingPipelines/6177796845926875136 current state:\n",
      "PipelineState.PIPELINE_STATE_RUNNING\n",
      "INFO:google.cloud.aiplatform.training_jobs:AutoMLTabularTrainingJob projects/301473280362/locations/us-central1/trainingPipelines/6177796845926875136 current state:\n",
      "PipelineState.PIPELINE_STATE_RUNNING\n",
      "INFO:google.cloud.aiplatform.training_jobs:AutoMLTabularTrainingJob projects/301473280362/locations/us-central1/trainingPipelines/6177796845926875136 current state:\n",
      "PipelineState.PIPELINE_STATE_RUNNING\n",
      "INFO:google.cloud.aiplatform.training_jobs:AutoMLTabularTrainingJob projects/301473280362/locations/us-central1/trainingPipelines/6177796845926875136 current state:\n",
      "PipelineState.PIPELINE_STATE_RUNNING\n",
      "INFO:google.cloud.aiplatform.training_jobs:AutoMLTabularTrainingJob projects/301473280362/locations/us-central1/trainingPipelines/6177796845926875136 current state:\n",
      "PipelineState.PIPELINE_STATE_RUNNING\n",
      "INFO:google.cloud.aiplatform.training_jobs:AutoMLTabularTrainingJob projects/301473280362/locations/us-central1/trainingPipelines/6177796845926875136 current state:\n",
      "PipelineState.PIPELINE_STATE_RUNNING\n",
      "INFO:google.cloud.aiplatform.training_jobs:AutoMLTabularTrainingJob projects/301473280362/locations/us-central1/trainingPipelines/6177796845926875136 current state:\n",
      "PipelineState.PIPELINE_STATE_RUNNING\n",
      "INFO:google.cloud.aiplatform.training_jobs:AutoMLTabularTrainingJob projects/301473280362/locations/us-central1/trainingPipelines/6177796845926875136 current state:\n",
      "PipelineState.PIPELINE_STATE_RUNNING\n",
      "INFO:google.cloud.aiplatform.training_jobs:AutoMLTabularTrainingJob projects/301473280362/locations/us-central1/trainingPipelines/6177796845926875136 current state:\n",
      "PipelineState.PIPELINE_STATE_RUNNING\n",
      "INFO:google.cloud.aiplatform.training_jobs:AutoMLTabularTrainingJob projects/301473280362/locations/us-central1/trainingPipelines/6177796845926875136 current state:\n",
      "PipelineState.PIPELINE_STATE_RUNNING\n",
      "INFO:google.cloud.aiplatform.training_jobs:AutoMLTabularTrainingJob projects/301473280362/locations/us-central1/trainingPipelines/6177796845926875136 current state:\n",
      "PipelineState.PIPELINE_STATE_RUNNING\n",
      "INFO:google.cloud.aiplatform.training_jobs:AutoMLTabularTrainingJob projects/301473280362/locations/us-central1/trainingPipelines/6177796845926875136 current state:\n",
      "PipelineState.PIPELINE_STATE_RUNNING\n",
      "INFO:google.cloud.aiplatform.training_jobs:AutoMLTabularTrainingJob projects/301473280362/locations/us-central1/trainingPipelines/6177796845926875136 current state:\n",
      "PipelineState.PIPELINE_STATE_RUNNING\n",
      "INFO:google.cloud.aiplatform.training_jobs:AutoMLTabularTrainingJob projects/301473280362/locations/us-central1/trainingPipelines/6177796845926875136 current state:\n",
      "PipelineState.PIPELINE_STATE_RUNNING\n",
      "INFO:google.cloud.aiplatform.training_jobs:AutoMLTabularTrainingJob projects/301473280362/locations/us-central1/trainingPipelines/6177796845926875136 current state:\n",
      "PipelineState.PIPELINE_STATE_RUNNING\n",
      "INFO:google.cloud.aiplatform.training_jobs:AutoMLTabularTrainingJob projects/301473280362/locations/us-central1/trainingPipelines/6177796845926875136 current state:\n",
      "PipelineState.PIPELINE_STATE_RUNNING\n",
      "INFO:google.cloud.aiplatform.training_jobs:AutoMLTabularTrainingJob projects/301473280362/locations/us-central1/trainingPipelines/6177796845926875136 current state:\n",
      "PipelineState.PIPELINE_STATE_RUNNING\n",
      "INFO:google.cloud.aiplatform.training_jobs:AutoMLTabularTrainingJob projects/301473280362/locations/us-central1/trainingPipelines/6177796845926875136 current state:\n",
      "PipelineState.PIPELINE_STATE_RUNNING\n",
      "INFO:google.cloud.aiplatform.training_jobs:AutoMLTabularTrainingJob projects/301473280362/locations/us-central1/trainingPipelines/6177796845926875136 current state:\n",
      "PipelineState.PIPELINE_STATE_RUNNING\n",
      "INFO:google.cloud.aiplatform.training_jobs:AutoMLTabularTrainingJob projects/301473280362/locations/us-central1/trainingPipelines/6177796845926875136 current state:\n",
      "PipelineState.PIPELINE_STATE_RUNNING\n",
      "INFO:google.cloud.aiplatform.training_jobs:AutoMLTabularTrainingJob projects/301473280362/locations/us-central1/trainingPipelines/6177796845926875136 current state:\n",
      "PipelineState.PIPELINE_STATE_RUNNING\n",
      "INFO:google.cloud.aiplatform.training_jobs:AutoMLTabularTrainingJob projects/301473280362/locations/us-central1/trainingPipelines/6177796845926875136 current state:\n",
      "PipelineState.PIPELINE_STATE_RUNNING\n",
      "INFO:google.cloud.aiplatform.training_jobs:AutoMLTabularTrainingJob run completed. Resource name: projects/301473280362/locations/us-central1/trainingPipelines/6177796845926875136\n",
      "INFO:google.cloud.aiplatform.training_jobs:Model available at projects/301473280362/locations/us-central1/models/7510372503198367744\n"
     ]
    }
   ],
   "source": [
    "model = dag.run(\n",
    "    dataset=dataset,\n",
    "    model_display_name=\"income_\" + TIMESTAMP,\n",
    "    training_fraction_split=0.6,\n",
    "    validation_fraction_split=0.2,\n",
    "    test_fraction_split=0.2,\n",
    "    budget_milli_node_hours=8000,\n",
    "    disable_early_stopping=False,\n",
    "    target_column=label_column,\n",
    ")\n"
   ]
  },
  {
   "cell_type": "code",
   "execution_count": null,
   "id": "b05d8462-659b-41b1-a59e-bf82a377f8a6",
   "metadata": {},
   "outputs": [],
   "source": []
  }
 ],
 "metadata": {
  "environment": {
   "kernel": "python3",
   "name": "common-cpu.m91",
   "type": "gcloud",
   "uri": "gcr.io/deeplearning-platform-release/base-cpu:m91"
  },
  "kernelspec": {
   "display_name": "Python 3",
   "language": "python",
   "name": "python3"
  },
  "language_info": {
   "codemirror_mode": {
    "name": "ipython",
    "version": 3
   },
   "file_extension": ".py",
   "mimetype": "text/x-python",
   "name": "python",
   "nbconvert_exporter": "python",
   "pygments_lexer": "ipython3",
   "version": "3.7.12"
  }
 },
 "nbformat": 4,
 "nbformat_minor": 5
}
